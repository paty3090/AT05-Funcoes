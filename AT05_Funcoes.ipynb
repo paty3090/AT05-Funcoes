{
  "nbformat": 4,
  "nbformat_minor": 0,
  "metadata": {
    "colab": {
      "provenance": [],
      "authorship_tag": "ABX9TyNsTZn5ZF3HdnZ2wS7lToK0",
      "include_colab_link": true
    },
    "kernelspec": {
      "name": "python3",
      "display_name": "Python 3"
    },
    "language_info": {
      "name": "python"
    }
  },
  "cells": [
    {
      "cell_type": "markdown",
      "metadata": {
        "id": "view-in-github",
        "colab_type": "text"
      },
      "source": [
        "<a href=\"https://colab.research.google.com/github/paty3090/AT05-Funcoes/blob/main/AT05_Funcoes.ipynb\" target=\"_parent\"><img src=\"https://colab.research.google.com/assets/colab-badge.svg\" alt=\"Open In Colab\"/></a>"
      ]
    },
    {
      "cell_type": "markdown",
      "source": [
        "1) Crie uma função chamada calcula_imc(peso=70, altura=1.75) que retorne o valor do IMC.\n",
        "(Fórmula: peso / altura²)\n",
        "\n"
      ],
      "metadata": {
        "id": "27dmnccVK__M"
      }
    },
    {
      "cell_type": "code",
      "execution_count": 3,
      "metadata": {
        "colab": {
          "base_uri": "https://localhost:8080/"
        },
        "id": "oFUYhIsgK5mX",
        "outputId": "0b0e66cb-c132-4f34-fb83-836d6d59f3c7"
      },
      "outputs": [
        {
          "output_type": "execute_result",
          "data": {
            "text/plain": [
              "40.0"
            ]
          },
          "metadata": {},
          "execution_count": 3
        }
      ],
      "source": [
        "#Funcao calcula_imc:\n",
        "70 / 1.75"
      ]
    },
    {
      "cell_type": "markdown",
      "source": [
        "2) Dado uma lista chamada alturas com os seguintes elementos: 45, 23, 67, 12, 11, 89, 23, 41, 50, 62, 78, 34, 56, 19, 72, 88, 11, 90, 39, 65, 76, 27, 48, 59, 81, 14, 11, 93, 3, 68, 29, 52, 74, 16, 85, 20, 55, 38, 69, 11, 83, 7, 44, 61, 18, 96, 22, 58, 31, 71, 40, 53, 87, 31.\n",
        "\n",
        "\n",
        "\n",
        "Utilize as funções padrão do Python para calcular e exibir:\n",
        "O maior valor do conjunto de dados;\n",
        "O menor valor do conjunto de dados;\n",
        "A soma de todos os valores;\n",
        "O valor absoluto de um número negativo (-25);\n",
        "O arredondamento do número 3.14159 para 2 casas decimais.\n"
      ],
      "metadata": {
        "id": "NeFeLIp8LRvQ"
      }
    },
    {
      "cell_type": "code",
      "source": [
        "print('Valor absoluto (negativo): ', abs(-25))\n",
        "medidas = [45, 23, 67, 12, 11, 89, 23, 41, 50, 62, 78, 34, 56, 19, 72, 88, 11, 90, 39, 65, 76, 27, 48, 59, 81, 14, 11, 93, 3, 68, 29, 52, 74, 16, 85, 20, 55, 38, 69, 11, 83, 7, 44, 61, 18, 96, 22, 58, 31, 71, 40, 53, 87, 31.]\n",
        "print('Maior valor: ', max(medidas))\n",
        "print('Menor valor: ', min(medidas))\n",
        "print('Soma: ', sum(medidas))\n",
        "print('Arredondamento', round(3.14159, 2))"
      ],
      "metadata": {
        "colab": {
          "base_uri": "https://localhost:8080/"
        },
        "id": "rf9E6tFKLWQn",
        "outputId": "3b95cf7f-ea44-4077-e4c2-d4870353c198"
      },
      "execution_count": 5,
      "outputs": [
        {
          "output_type": "stream",
          "name": "stdout",
          "text": [
            "Valor absoluto (negativo):  25\n",
            "Maior valor:  96\n",
            "Menor valor:  3\n",
            "Soma:  2606.0\n",
            "Arredondamento 3.14\n"
          ]
        }
      ]
    },
    {
      "cell_type": "markdown",
      "source": [
        "Utilize as funções do módulo statistics para calcular e exibir:\n",
        "A média dos dados;\n",
        "A mediana dos dados;\n",
        "A moda dos dados;\n",
        "A variância da amostra dos dados;\n",
        "O desvio padrão da amostra dos dados."
      ],
      "metadata": {
        "id": "X0vTJyI-OpGd"
      }
    },
    {
      "cell_type": "code",
      "source": [
        "# Estatística\n",
        "from statistics import *\n",
        "print('Média: ', mean(medidas))\n",
        "print('Mediana: ', median(medidas))\n",
        "print('Moda: ', mode(medidas))\n",
        "print('Variância: ', variance(medidas))\n",
        "print('Desvio padrão: ', stdev(medidas))"
      ],
      "metadata": {
        "colab": {
          "base_uri": "https://localhost:8080/"
        },
        "id": "MnWceoZgOyhs",
        "outputId": "41345221-c5ea-45b8-fb87-2f669374ce8a"
      },
      "execution_count": 6,
      "outputs": [
        {
          "output_type": "stream",
          "name": "stdout",
          "text": [
            "Média:  48.25925925925926\n",
            "Mediana:  49.0\n",
            "Moda:  11\n",
            "Variância:  741.1013277428372\n",
            "Desvio padrão:  27.223176297831913\n"
          ]
        }
      ]
    },
    {
      "cell_type": "markdown",
      "source": [
        "3) Crie duas matrizes aleatórias:\n",
        "Uma matriz 5x10 de números float aleatórios entre 0 e 1.\n",
        "Uma matriz 8x4 de números inteiros aleatórios entre 0 e 9."
      ],
      "metadata": {
        "id": "8owuCjD5LWtu"
      }
    },
    {
      "cell_type": "code",
      "source": [
        "import numpy as np\n",
        "\n",
        "# Matriz 5x10 de floats entre 0 e 1\n",
        "matriz_float = np.random.rand(5, 10)\n",
        "print(\"Matriz 5x10 de floats entre 0 e 1:\")\n",
        "print(matriz_float)"
      ],
      "metadata": {
        "colab": {
          "base_uri": "https://localhost:8080/"
        },
        "id": "iMXerTuIQwRE",
        "outputId": "3c27d01a-4e84-4458-fd1b-75dc6c3db6e2"
      },
      "execution_count": 10,
      "outputs": [
        {
          "output_type": "stream",
          "name": "stdout",
          "text": [
            "Matriz 5x10 de floats entre 0 e 1:\n",
            "[[0.92618506 0.93578084 0.61394321 0.48240005 0.45864439 0.44840121\n",
            "  0.56316009 0.43228282 0.46191376 0.39873519]\n",
            " [0.36570825 0.7399029  0.23886971 0.97904284 0.09020299 0.17149865\n",
            "  0.61010998 0.39653417 0.49500759 0.68758775]\n",
            " [0.73221152 0.21498142 0.77841806 0.82689638 0.58115976 0.4985312\n",
            "  0.70027872 0.61056247 0.60673284 0.73438751]\n",
            " [0.04190624 0.19014796 0.1179548  0.78910075 0.59379869 0.30220244\n",
            "  0.80556006 0.44972371 0.8248761  0.56847986]\n",
            " [0.3463542  0.10029606 0.87793897 0.01350827 0.31980498 0.92518852\n",
            "  0.44339834 0.55542246 0.81174962 0.8944547 ]]\n"
          ]
        }
      ]
    },
    {
      "cell_type": "code",
      "source": [
        "# Matriz 8x4 de inteiros entre 0 e 9\n",
        "matriz_int = np.random.randint(0, 10, size=(8, 4))\n",
        "print(\"\\nMatriz 8x4 de inteiros entre 0 e 9:\")\n",
        "print(matriz_int)"
      ],
      "metadata": {
        "colab": {
          "base_uri": "https://localhost:8080/"
        },
        "id": "FPzkbQZjQ4cn",
        "outputId": "062e27e2-54f2-495a-98bc-c579788b038c"
      },
      "execution_count": 11,
      "outputs": [
        {
          "output_type": "stream",
          "name": "stdout",
          "text": [
            "\n",
            "Matriz 8x4 de inteiros entre 0 e 9:\n",
            "[[6 7 9 7]\n",
            " [8 7 7 9]\n",
            " [1 3 1 7]\n",
            " [8 8 0 5]\n",
            " [0 7 8 6]\n",
            " [2 1 1 0]\n",
            " [0 3 8 5]\n",
            " [6 4 2 8]]\n"
          ]
        }
      ]
    }
  ]
}